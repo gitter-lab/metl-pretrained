{
 "cells": [
  {
   "cell_type": "code",
   "execution_count": 1,
   "metadata": {},
   "outputs": [],
   "source": [
    "import metl\n",
    "import torch\n",
    "from biopandas.pdb import PandasPdb\n",
    "from Bio.SeqUtils import seq1\n",
    "\n",
    "import metl.relative_attention as ra"
   ]
  },
  {
   "cell_type": "code",
   "execution_count": 2,
   "metadata": {},
   "outputs": [
    {
     "name": "stdout",
     "output_type": "stream",
     "text": [
      "Initialized PDB bucket matrices in: 0.000\n",
      "Initialized PDB bucket matrices in: 0.000\n"
     ]
    }
   ],
   "source": [
    "model_needs_pdb = metl.get_from_ident(\"metl-l-2m-3d-gb1\")\n",
    "model_no_pdb = metl.get_from_uuid(uuid=\"YoQkzoLD\") # no relative attention"
   ]
  },
  {
   "cell_type": "code",
   "execution_count": 3,
   "metadata": {},
   "outputs": [],
   "source": [
    "wt = \"MQYKLILNGKTLKGETTTEAVDAATAEKVFKQYANDNGVDGEWTYDDATKTFTVTE\"\n",
    "pdb_fn = '../pdbs/2qmt_p.pdb'\n",
    "variants = [\"T17P,T54F\", \"V28L,D46A\"]"
   ]
  },
  {
   "cell_type": "code",
   "execution_count": 4,
   "metadata": {},
   "outputs": [
    {
     "data": {
      "text/plain": [
       "(tensor([[ 4.7697e-01,  2.8120e-01, -9.2805e-02,  1.3844e+00, -1.6826e-01,\n",
       "           3.0760e-01,  2.9817e-01, -1.3989e+00, -6.9998e-03,  2.9667e+00,\n",
       "           5.2389e-01, -1.1593e-01, -6.0801e-01,  1.3960e+00, -7.3188e-01,\n",
       "           4.5726e-01,  2.4292e-01, -6.2117e-01, -3.2025e-01, -2.7432e-03,\n",
       "           1.0857e+00,  7.2377e-01, -1.8836e-01,  1.2242e+00, -2.0520e-01,\n",
       "          -1.2772e-01, -5.5548e-01,  1.7935e-01, -4.5334e-02,  5.6413e-01,\n",
       "           7.0476e-01,  2.2904e-01,  1.3629e-02, -3.3900e-01,  9.5354e-01,\n",
       "           2.7879e-01,  1.5288e+00,  6.2959e-02, -9.8674e-01,  9.6503e-01,\n",
       "           1.1230e+00,  7.0476e-01, -1.5055e+00,  3.4333e-01,  1.8991e+00,\n",
       "           7.1499e-01, -3.8434e-01, -5.2042e-01,  2.5414e+00,  1.2656e+00,\n",
       "          -8.8348e-01,  2.6817e+00, -7.5841e-02,  2.7973e+00, -1.7446e-01],\n",
       "         [-7.1824e-01, -1.0838e-01, -3.0332e-01,  4.3212e-01, -2.2647e-01,\n",
       "          -6.0814e-01, -3.1514e-01, -9.7168e-01,  2.2807e-01, -4.4759e-01,\n",
       "           5.1764e-01, -6.7759e-01,  5.7723e-01,  5.8746e-02, -9.1098e-01,\n",
       "          -1.7514e-01, -5.6852e-01,  3.0986e-01, -6.1122e-01, -2.3290e-01,\n",
       "           3.0098e-01,  6.0075e-01,  6.4402e-01,  3.9483e-01,  3.4120e-01,\n",
       "           1.3791e-01,  7.0088e-01,  2.0338e-01,  1.0337e+00, -2.1346e-01,\n",
       "          -2.6859e-02,  2.6972e-01,  4.1215e-01,  2.8373e-01, -5.9371e-01,\n",
       "           4.7806e-01,  1.2857e-01,  3.1594e-02, -2.4400e-01,  1.0700e-01,\n",
       "           5.0299e-02, -2.6863e-02,  6.8558e-01, -3.8530e-01, -2.0537e-01,\n",
       "          -1.3260e-01, -1.0593e+00, -1.3271e-03, -4.2777e-02,  2.2335e-01,\n",
       "          -3.1454e-01, -7.8193e-02, -2.5404e-02,  3.4191e-01, -1.7368e-01]]),\n",
       " tensor([[-3.6763],\n",
       "         [-3.2601]]))"
      ]
     },
     "execution_count": 4,
     "metadata": {},
     "output_type": "execute_result"
    }
   ],
   "source": [
    "with torch.no_grad():\n",
    "    pred = model_needs_pdb(wt, variants, pdb_fn)\n",
    "    pred2  = model_no_pdb(wt, variants)\n",
    "pred, pred2"
   ]
  }
 ],
 "metadata": {
  "kernelspec": {
   "display_name": "venv",
   "language": "python",
   "name": "python3"
  },
  "language_info": {
   "codemirror_mode": {
    "name": "ipython",
    "version": 3
   },
   "file_extension": ".py",
   "mimetype": "text/x-python",
   "name": "python",
   "nbconvert_exporter": "python",
   "pygments_lexer": "ipython3",
   "version": "3.10.14"
  }
 },
 "nbformat": 4,
 "nbformat_minor": 2
}

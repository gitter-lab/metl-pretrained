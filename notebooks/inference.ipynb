{
 "cells": [
  {
   "cell_type": "markdown",
   "metadata": {},
   "source": [
    "# Inference with METL-Global"
   ]
  },
  {
   "cell_type": "code",
   "execution_count": 10,
   "metadata": {},
   "outputs": [],
   "source": [
    "import torch\n",
    "import torchextractor as tx\n",
    "import torchinfo\n",
    "\n",
    "import metl"
   ]
  },
  {
   "cell_type": "markdown",
   "metadata": {},
   "source": [
    "# Load a METL-G model"
   ]
  },
  {
   "cell_type": "code",
   "execution_count": 5,
   "metadata": {},
   "outputs": [],
   "source": [
    "model, data_encoder = metl.get_from_ident(\"METL-G-20M-1D\")"
   ]
  },
  {
   "cell_type": "code",
   "execution_count": 7,
   "metadata": {},
   "outputs": [
    {
     "name": "stdout",
     "output_type": "stream",
     "text": [
      "===============================================================================================\n",
      "Layer (type (var_name))                                                Param #\n",
      "===============================================================================================\n",
      "AttnModel (AttnModel)                                                  --\n",
      "├─SequentialWithArgs (model)                                           --\n",
      "│    └─ScaledEmbedding (embedder)                                      --\n",
      "│    │    └─Embedding (embedding)                                      10,752\n",
      "│    └─RelativeTransformerEncoder (tr_encoder)                         --\n",
      "│    │    └─ModuleList (layers)                                        --\n",
      "│    │    │    └─RelativeTransformerEncoderLayer (0)                   3,154,560\n",
      "│    │    │    └─RelativeTransformerEncoderLayer (1)                   3,154,560\n",
      "│    │    │    └─RelativeTransformerEncoderLayer (2)                   3,154,560\n",
      "│    │    │    └─RelativeTransformerEncoderLayer (3)                   3,154,560\n",
      "│    │    │    └─RelativeTransformerEncoderLayer (4)                   3,154,560\n",
      "│    │    │    └─RelativeTransformerEncoderLayer (5)                   3,154,560\n",
      "│    │    └─LayerNorm (norm)                                           1,024\n",
      "│    └─GlobalAveragePooling (avg_pooling)                              --\n",
      "│    └─FCBlock (fc1)                                                   --\n",
      "│    │    └─Linear (fc)                                                262,656\n",
      "│    │    └─ReLU (activation)                                          --\n",
      "│    │    └─LayerNorm (norm)                                           1,024\n",
      "│    │    └─Dropout (dropout)                                          --\n",
      "│    └─Linear (prediction)                                             28,215\n",
      "===============================================================================================\n",
      "Total params: 19,231,031\n",
      "Trainable params: 19,231,031\n",
      "Non-trainable params: 0\n",
      "===============================================================================================\n"
     ]
    }
   ],
   "source": [
    "summary = torchinfo.summary(model, depth=4, verbose=1, row_settings=[\"var_names\"])"
   ]
  },
  {
   "cell_type": "markdown",
   "metadata": {},
   "source": [
    "# Set up representation extraction\n",
    "For METL-Global models, I recommend using the representation immediately after the GlobalAveragePooling (avg_pooling) layer. For METL-Local models, I recommend using the representation immediately after the final fully connected layer (fc1). "
   ]
  },
  {
   "cell_type": "code",
   "execution_count": 12,
   "metadata": {},
   "outputs": [],
   "source": [
    "return_layers = [\n",
    "    \"model.avg_pooling\",\n",
    "]\n",
    "\n",
    "extractor = tx.Extractor(model.eval(), return_layers)"
   ]
  },
  {
   "cell_type": "markdown",
   "metadata": {},
   "source": [
    "# Test a couple sequences"
   ]
  },
  {
   "cell_type": "code",
   "execution_count": 25,
   "metadata": {},
   "outputs": [],
   "source": [
    "# note: make sure all the sequences in a batch are the same length\n",
    "amino_acid_sequences = [\"SMART\", \"MAGIC\"]\n",
    "encoded_seqs = data_encoder.encode_sequences(amino_acid_sequences)\n",
    "\n",
    "with torch.no_grad():\n",
    "    model_out, intermediate_out = extractor(torch.tensor(encoded_seqs))"
   ]
  },
  {
   "cell_type": "code",
   "execution_count": 29,
   "metadata": {},
   "outputs": [
    {
     "data": {
      "text/plain": [
       "torch.Size([2, 55])"
      ]
     },
     "execution_count": 29,
     "metadata": {},
     "output_type": "execute_result"
    }
   ],
   "source": [
    "# model_out contains the final output of the model (Rosetta energy term predictions)\n",
    "# there are 55 energy terms, the first one is total_score \n",
    "# they are listed in order on the main README\n",
    "model_out.shape"
   ]
  },
  {
   "cell_type": "code",
   "execution_count": 32,
   "metadata": {},
   "outputs": [
    {
     "data": {
      "text/plain": [
       "torch.Size([2, 512])"
      ]
     },
     "execution_count": 32,
     "metadata": {},
     "output_type": "execute_result"
    }
   ],
   "source": [
    "# intermediate_out is a dictionary containing intermediate outputs \n",
    "# for all the return_layers specified above\n",
    "# METL-G has an embedding dimension of 512, thus outputs will be 512\n",
    "intermediate_out[\"model.avg_pooling\"].shape"
   ]
  },
  {
   "cell_type": "markdown",
   "metadata": {},
   "source": [
    "# Additional notes\n",
    "The above will retrieve a length 512 sequence-level representation immediately following the global average pooling layer, which takes the average of residue-level representations. \n",
    "\n",
    "If you want, you can also get the residue-representations. You can also play around with the sequence-level representation from after the FC layer, although I haven't had as much success with this representation for my tasks (too specific to the Rosetta energies?). You may have more luck with it, though. "
   ]
  },
  {
   "cell_type": "code",
   "execution_count": 34,
   "metadata": {},
   "outputs": [],
   "source": [
    "# the above will retrieve a length 512 sequence-level representation\n",
    "# you can also get a representation for each residue\n",
    "\n",
    "return_layers = [\n",
    "    \"model.tr_encoder\", # residue-level representation\n",
    "    \"model.avg_pooling\", # sequence-level representation following avg pooling\n",
    "    \"model.fc1\", # sequence-level representation following the final fully connected layer\n",
    "]\n",
    "\n",
    "extractor = tx.Extractor(model.eval(), return_layers)\n",
    "\n",
    "amino_acid_sequences = [\"SMART\", \"MAGIC\"]\n",
    "encoded_seqs = data_encoder.encode_sequences(amino_acid_sequences)\n",
    "\n",
    "with torch.no_grad():\n",
    "    model_out, intermediate_out = extractor(torch.tensor(encoded_seqs))"
   ]
  },
  {
   "cell_type": "code",
   "execution_count": 42,
   "metadata": {},
   "outputs": [
    {
     "name": "stdout",
     "output_type": "stream",
     "text": [
      "Layer: model.tr_encoder\n",
      "Output shape: torch.Size([2, 5, 512])\n",
      "\n",
      "Layer: model.avg_pooling\n",
      "Output shape: torch.Size([2, 512])\n",
      "\n",
      "Layer: model.fc1\n",
      "Output shape: torch.Size([2, 512])\n"
     ]
    }
   ],
   "source": [
    "for k, v in intermediate_out.items():\n",
    "    print(\"Layer: {}\\nOutput shape: {}\\n\".format(k, v.shape))"
   ]
  },
  {
   "cell_type": "code",
   "execution_count": null,
   "metadata": {},
   "outputs": [],
   "source": []
  }
 ],
 "metadata": {
  "kernelspec": {
   "display_name": "Python 3 (ipykernel)",
   "language": "python",
   "name": "python3"
  },
  "language_info": {
   "codemirror_mode": {
    "name": "ipython",
    "version": 3
   },
   "file_extension": ".py",
   "mimetype": "text/x-python",
   "name": "python",
   "nbconvert_exporter": "python",
   "pygments_lexer": "ipython3",
   "version": "3.9.16"
  }
 },
 "nbformat": 4,
 "nbformat_minor": 4
}
